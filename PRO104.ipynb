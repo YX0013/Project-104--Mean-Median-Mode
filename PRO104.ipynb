{
  "nbformat": 4,
  "nbformat_minor": 0,
  "metadata": {
    "colab": {
      "name": "PRO104.ipynb",
      "provenance": []
    },
    "kernelspec": {
      "name": "python3",
      "display_name": "Python 3"
    },
    "language_info": {
      "name": "python"
    }
  },
  "cells": [
    {
      "cell_type": "markdown",
      "source": [
        "Continuation of C104"
      ],
      "metadata": {
        "id": "MZUE9Ky8DUKc"
      }
    },
    {
      "cell_type": "code",
      "execution_count": 1,
      "metadata": {
        "id": "Bvy7YPkcCpX7"
      },
      "outputs": [],
      "source": [
        "import pandas as pd\n",
        "from google.colab import files\n",
        "from collections import Counter"
      ]
    },
    {
      "cell_type": "code",
      "source": [
        "df = pd.read_csv(\"https://raw.githubusercontent.com/YX0013/Project-104-Data/main/C104-HeightWeight.csv\")\n",
        "df.head()"
      ],
      "metadata": {
        "colab": {
          "base_uri": "https://localhost:8080/",
          "height": 206
        },
        "id": "xxjpDEvTDqWw",
        "outputId": "867aced6-2f49-4be7-9f25-fe51ac6c0776"
      },
      "execution_count": 2,
      "outputs": [
        {
          "output_type": "execute_result",
          "data": {
            "text/plain": [
              "   Index  Height(Inches)  Weight(Pounds)\n",
              "0      1        65.78331        112.9925\n",
              "1      2        71.51521        136.4873\n",
              "2      3        69.39874        153.0269\n",
              "3      4        68.21660        142.3354\n",
              "4      5        67.78781        144.2971"
            ],
            "text/html": [
              "\n",
              "  <div id=\"df-bada8105-0ee7-4aaf-9438-14ecf56fb270\">\n",
              "    <div class=\"colab-df-container\">\n",
              "      <div>\n",
              "<style scoped>\n",
              "    .dataframe tbody tr th:only-of-type {\n",
              "        vertical-align: middle;\n",
              "    }\n",
              "\n",
              "    .dataframe tbody tr th {\n",
              "        vertical-align: top;\n",
              "    }\n",
              "\n",
              "    .dataframe thead th {\n",
              "        text-align: right;\n",
              "    }\n",
              "</style>\n",
              "<table border=\"1\" class=\"dataframe\">\n",
              "  <thead>\n",
              "    <tr style=\"text-align: right;\">\n",
              "      <th></th>\n",
              "      <th>Index</th>\n",
              "      <th>Height(Inches)</th>\n",
              "      <th>Weight(Pounds)</th>\n",
              "    </tr>\n",
              "  </thead>\n",
              "  <tbody>\n",
              "    <tr>\n",
              "      <th>0</th>\n",
              "      <td>1</td>\n",
              "      <td>65.78331</td>\n",
              "      <td>112.9925</td>\n",
              "    </tr>\n",
              "    <tr>\n",
              "      <th>1</th>\n",
              "      <td>2</td>\n",
              "      <td>71.51521</td>\n",
              "      <td>136.4873</td>\n",
              "    </tr>\n",
              "    <tr>\n",
              "      <th>2</th>\n",
              "      <td>3</td>\n",
              "      <td>69.39874</td>\n",
              "      <td>153.0269</td>\n",
              "    </tr>\n",
              "    <tr>\n",
              "      <th>3</th>\n",
              "      <td>4</td>\n",
              "      <td>68.21660</td>\n",
              "      <td>142.3354</td>\n",
              "    </tr>\n",
              "    <tr>\n",
              "      <th>4</th>\n",
              "      <td>5</td>\n",
              "      <td>67.78781</td>\n",
              "      <td>144.2971</td>\n",
              "    </tr>\n",
              "  </tbody>\n",
              "</table>\n",
              "</div>\n",
              "      <button class=\"colab-df-convert\" onclick=\"convertToInteractive('df-bada8105-0ee7-4aaf-9438-14ecf56fb270')\"\n",
              "              title=\"Convert this dataframe to an interactive table.\"\n",
              "              style=\"display:none;\">\n",
              "        \n",
              "  <svg xmlns=\"http://www.w3.org/2000/svg\" height=\"24px\"viewBox=\"0 0 24 24\"\n",
              "       width=\"24px\">\n",
              "    <path d=\"M0 0h24v24H0V0z\" fill=\"none\"/>\n",
              "    <path d=\"M18.56 5.44l.94 2.06.94-2.06 2.06-.94-2.06-.94-.94-2.06-.94 2.06-2.06.94zm-11 1L8.5 8.5l.94-2.06 2.06-.94-2.06-.94L8.5 2.5l-.94 2.06-2.06.94zm10 10l.94 2.06.94-2.06 2.06-.94-2.06-.94-.94-2.06-.94 2.06-2.06.94z\"/><path d=\"M17.41 7.96l-1.37-1.37c-.4-.4-.92-.59-1.43-.59-.52 0-1.04.2-1.43.59L10.3 9.45l-7.72 7.72c-.78.78-.78 2.05 0 2.83L4 21.41c.39.39.9.59 1.41.59.51 0 1.02-.2 1.41-.59l7.78-7.78 2.81-2.81c.8-.78.8-2.07 0-2.86zM5.41 20L4 18.59l7.72-7.72 1.47 1.35L5.41 20z\"/>\n",
              "  </svg>\n",
              "      </button>\n",
              "      \n",
              "  <style>\n",
              "    .colab-df-container {\n",
              "      display:flex;\n",
              "      flex-wrap:wrap;\n",
              "      gap: 12px;\n",
              "    }\n",
              "\n",
              "    .colab-df-convert {\n",
              "      background-color: #E8F0FE;\n",
              "      border: none;\n",
              "      border-radius: 50%;\n",
              "      cursor: pointer;\n",
              "      display: none;\n",
              "      fill: #1967D2;\n",
              "      height: 32px;\n",
              "      padding: 0 0 0 0;\n",
              "      width: 32px;\n",
              "    }\n",
              "\n",
              "    .colab-df-convert:hover {\n",
              "      background-color: #E2EBFA;\n",
              "      box-shadow: 0px 1px 2px rgba(60, 64, 67, 0.3), 0px 1px 3px 1px rgba(60, 64, 67, 0.15);\n",
              "      fill: #174EA6;\n",
              "    }\n",
              "\n",
              "    [theme=dark] .colab-df-convert {\n",
              "      background-color: #3B4455;\n",
              "      fill: #D2E3FC;\n",
              "    }\n",
              "\n",
              "    [theme=dark] .colab-df-convert:hover {\n",
              "      background-color: #434B5C;\n",
              "      box-shadow: 0px 1px 3px 1px rgba(0, 0, 0, 0.15);\n",
              "      filter: drop-shadow(0px 1px 2px rgba(0, 0, 0, 0.3));\n",
              "      fill: #FFFFFF;\n",
              "    }\n",
              "  </style>\n",
              "\n",
              "      <script>\n",
              "        const buttonEl =\n",
              "          document.querySelector('#df-bada8105-0ee7-4aaf-9438-14ecf56fb270 button.colab-df-convert');\n",
              "        buttonEl.style.display =\n",
              "          google.colab.kernel.accessAllowed ? 'block' : 'none';\n",
              "\n",
              "        async function convertToInteractive(key) {\n",
              "          const element = document.querySelector('#df-bada8105-0ee7-4aaf-9438-14ecf56fb270');\n",
              "          const dataTable =\n",
              "            await google.colab.kernel.invokeFunction('convertToInteractive',\n",
              "                                                     [key], {});\n",
              "          if (!dataTable) return;\n",
              "\n",
              "          const docLinkHtml = 'Like what you see? Visit the ' +\n",
              "            '<a target=\"_blank\" href=https://colab.research.google.com/notebooks/data_table.ipynb>data table notebook</a>'\n",
              "            + ' to learn more about interactive tables.';\n",
              "          element.innerHTML = '';\n",
              "          dataTable['output_type'] = 'display_data';\n",
              "          await google.colab.output.renderOutput(dataTable, element);\n",
              "          const docLink = document.createElement('div');\n",
              "          docLink.innerHTML = docLinkHtml;\n",
              "          element.appendChild(docLink);\n",
              "        }\n",
              "      </script>\n",
              "    </div>\n",
              "  </div>\n",
              "  "
            ]
          },
          "metadata": {},
          "execution_count": 2
        }
      ]
    },
    {
      "cell_type": "markdown",
      "source": [
        "Weight (18-year-olds)"
      ],
      "metadata": {
        "id": "e_Hfbwx2EZ-R"
      }
    },
    {
      "cell_type": "markdown",
      "source": [
        "Mean"
      ],
      "metadata": {
        "id": "MndP3FYLD5xE"
      }
    },
    {
      "cell_type": "code",
      "source": [
        "weight = df['Weight(Pounds)']\n",
        "total = len(weight)\n",
        "sum = 0\n",
        "\n",
        "for i in weight:\n",
        "  sum = sum + i\n",
        "mean = sum/total\n",
        "print(f\"The mean is {mean:2f}.\")"
      ],
      "metadata": {
        "colab": {
          "base_uri": "https://localhost:8080/"
        },
        "id": "Vt33hZBzD_uV",
        "outputId": "3fef20d4-a743-4755-a891-b8fa572b666b"
      },
      "execution_count": 16,
      "outputs": [
        {
          "output_type": "stream",
          "name": "stdout",
          "text": [
            "The mean is 127.079421.\n"
          ]
        }
      ]
    },
    {
      "cell_type": "markdown",
      "source": [
        "Median"
      ],
      "metadata": {
        "id": "o2XbcER4EjOp"
      }
    },
    {
      "cell_type": "code",
      "source": [
        "weight = df['Weight(Pounds)']\n",
        "weight = weight.tolist()\n",
        "weight.sort()\n",
        "\n",
        "if total % 2 == 0:\n",
        "  median1 = float(weight[total//2])\n",
        "  median2 = float(weight[total//2 - 1]) \n",
        "  median = (median1 + median2)/2\n",
        "else:\n",
        "  median = float(weight[total//2])\n",
        "print(f\"The median is {median:2f}.\")"
      ],
      "metadata": {
        "colab": {
          "base_uri": "https://localhost:8080/"
        },
        "id": "g2E9hjUiEMmU",
        "outputId": "5b9f9a24-d1ae-40f9-dcee-bc556c1a3416"
      },
      "execution_count": 15,
      "outputs": [
        {
          "output_type": "stream",
          "name": "stdout",
          "text": [
            "The median is 127.157750.\n"
          ]
        }
      ]
    },
    {
      "cell_type": "markdown",
      "source": [
        "Mode"
      ],
      "metadata": {
        "id": "EAmdRce6E0uM"
      }
    },
    {
      "cell_type": "code",
      "source": [
        "weight = df['Weight(Pounds)']\n",
        "data = Counter(weight)\n",
        "\n",
        "mode_data_for_range = { \"75-85\": 0, \"85-95\": 0, \"95-105\": 0, \"105-115\": 0, \"115-125\": 0, \"125-135\": 0, \"135-145\": 0, \"145-155\": 0, \"155-165\": 0, \"165-175\": 0 }\n",
        "for weight, occurence in data.items(): \n",
        "  if 75 < float(weight) < 85: \n",
        "    mode_data_for_range[\"75-85\"] += occurence \n",
        "  elif 85 < float(weight) < 95: \n",
        "    mode_data_for_range[\"85-95\"] += occurence \n",
        "  elif 95 < float(weight) < 105: \n",
        "    mode_data_for_range[\"95-105\"] += occurence\n",
        "  elif 105 < float(weight) < 115: \n",
        "    mode_data_for_range[\"105-115\"] += occurence\n",
        "  elif 115 < float(weight) < 125: \n",
        "    mode_data_for_range[\"115-125\"] += occurence\n",
        "  elif 125 < float(weight) < 135: \n",
        "    mode_data_for_range[\"125-135\"] += occurence\n",
        "  elif 135 < float(weight) < 145: \n",
        "    mode_data_for_range[\"135-145\"] += occurence\n",
        "  elif 145 < float(weight) < 155: \n",
        "    mode_data_for_range[\"145-155\"] += occurence\n",
        "  elif 155 < float(weight) < 165: \n",
        "    mode_data_for_range[\"155-165\"] += occurence\n",
        "  elif 165 < float(weight) < 175: \n",
        "    mode_data_for_range[\"165-175\"] += occurence\n",
        "\n",
        "mode_range, mode_occurence = 0, 0 \n",
        "for range, occurence in mode_data_for_range.items(): \n",
        "  if occurence > mode_occurence: \n",
        "    mode_range, mode_occurence = [int(range.split(\"-\")[0]), int(range.split(\"-\")[1])], occurence \n",
        "mode = float((mode_range[0] + mode_range[1]) / 2) \n",
        "print(f\"The mode is {mode:2f}.\")"
      ],
      "metadata": {
        "colab": {
          "base_uri": "https://localhost:8080/"
        },
        "id": "nvJHdVnfE2V0",
        "outputId": "15acd268-32a2-4272-9268-3e0c923216de"
      },
      "execution_count": 14,
      "outputs": [
        {
          "output_type": "stream",
          "name": "stdout",
          "text": [
            "The mode is 130.000000.\n"
          ]
        }
      ]
    }
  ]
}